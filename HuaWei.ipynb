{
 "metadata": {
  "language_info": {
   "codemirror_mode": {
    "name": "ipython",
    "version": 3
   },
   "file_extension": ".py",
   "mimetype": "text/x-python",
   "name": "python",
   "nbconvert_exporter": "python",
   "pygments_lexer": "ipython3",
   "version": "3.7.4"
  },
  "orig_nbformat": 2,
  "kernelspec": {
   "name": "python374jvsc74a57bd096471d01087d4db976afdaae85d9de9222c1ac2c0ffb6e474608376cae1a9d4e",
   "display_name": "Python 3.7.4 64-bit"
  }
 },
 "nbformat": 4,
 "nbformat_minor": 2,
 "cells": [
  {
   "cell_type": "code",
   "execution_count": null,
   "metadata": {},
   "outputs": [],
   "source": [
    "class Solution(object):\n",
    "    def findRepeatNumber(self, nums):\n",
    "        \"\"\"\n",
    "        :type nums: List[int]\n",
    "        :rtype: int\n",
    "        \"\"\"\n",
    "        m = {}\n",
    "        m = m.fromkeys(nums, 0)\n",
    "        for i in  nums:\n",
    "            m[i] += 1\n",
    "        for key, value in m.items():\n",
    "            if value > 1:\n",
    "                print(key, end='')\n",
    "                # print('nihao')\n",
    "                break\n",
    "Solution().findRepeatNumber([2, 3, 1, 0, 2, 5, 3])"
   ]
  },
  {
   "source": [
    "题目一：数组去重复后排序"
   ],
   "cell_type": "markdown",
   "metadata": {}
  },
  {
   "cell_type": "code",
   "execution_count": null,
   "metadata": {},
   "outputs": [],
   "source": []
  },
  {
   "source": [
    "题目二：\n",
    "1+1/2!+…+1/n!\n"
   ],
   "cell_type": "markdown",
   "metadata": {}
  },
  {
   "cell_type": "code",
   "execution_count": null,
   "metadata": {},
   "outputs": [],
   "source": [
    "n = int(input())\n",
    "\n",
    "\n",
    "def jieCheng(n):\n",
    "    if n == 1:\n",
    "        return 1\n",
    "    return n * jieCheng(n - 1)\n",
    "\n",
    "\n",
    "sum = 0\n",
    "for i in range(1, n + 1):\n",
    "    sum += 1/jieCheng(i)\n",
    "    \n",
    "print(sum)"
   ]
  },
  {
   "source": [
    "求某区间所有能被x整除的数\n"
   ],
   "cell_type": "markdown",
   "metadata": {}
  },
  {
   "cell_type": "code",
   "execution_count": null,
   "metadata": {},
   "outputs": [],
   "source": [
    "a = list(map(int, input().split()))\n",
    "\n",
    "flag = 0\n",
    "x = a[0]\n",
    "for i in range(1, len(a) - 1):\n",
    "    if a[i] % x == 0:\n",
    "        print(a[i])\n",
    "    else:\n",
    "        flag += 1\n",
    "if flag == len(a) - 2:\n",
    "    print(\"ZERO\")"
   ]
  },
  {
   "source": [
    "多进制与二进制间转换，按位输出"
   ],
   "cell_type": "markdown",
   "metadata": {}
  },
  {
   "cell_type": "code",
   "execution_count": 2,
   "metadata": {},
   "outputs": [
    {
     "output_type": "stream",
     "name": "stdout",
     "text": [
      "i: 0\nnumber[i]: 0\ni: 1\nnumber[i]: 1\ndecimal_number: 8\n"
     ]
    }
   ],
   "source": [
    "#二进制正整数转化为十进制算法\n",
    "\n",
    "number=input(\"please input the binary number to convert to decimal number:\")\n",
    "number=number[::-1]\n",
    "decimal_number=0\n",
    "for i in range(len(number)):\n",
    "    print (\"i:\",i)\n",
    "    print (\"number[i]:\",number[i])\n",
    "    decimal_number+=int(number[i])*pow(2,i)\n",
    "    # decimal_number+=int(number[i])*pow(8,i)  # 八进制转10进制\n",
    "print (\"decimal_number:\",decimal_number)\n"
   ]
  },
  {
   "source": [
    "# 十进制转二进制\n",
    "\n",
    "# 方法一：\n",
    "n = int(input())\n",
    "binary = []\n",
    "\n",
    "while n > 0:\n",
    "   binary.append(n % 2)\n",
    "   n =  int(n / 2)\n",
    "\n",
    "# 直接输出结果。\n",
    "print(binary[::-1])\n",
    "\n",
    "# 输出指定8位数,不够八位补零\n",
    "s = str(\"{0:08b}\".format(4))\n",
    "print(s)\n"
   ],
   "cell_type": "code",
   "metadata": {},
   "execution_count": null,
   "outputs": []
  },
  {
   "cell_type": "code",
   "execution_count": null,
   "metadata": {},
   "outputs": [],
   "source": [
    "# 八进制转二进制\n",
    "n = int(input(), 8)\n",
    "print(n)\n",
    "# 下部分同上"
   ]
  },
  {
   "source": [
    "求某两个数计算后的后几位，前几位"
   ],
   "cell_type": "markdown",
   "metadata": {}
  },
  {
   "cell_type": "code",
   "execution_count": 34,
   "metadata": {},
   "outputs": [
    {
     "output_type": "stream",
     "name": "stdout",
     "text": [
      "['5', '4']\n"
     ]
    }
   ],
   "source": [
    "n = 6 * 9\n",
    "a = list(str(n))\n",
    "print(a)"
   ]
  },
  {
   "source": [
    "约瑟夫报数"
   ],
   "cell_type": "markdown",
   "metadata": {}
  },
  {
   "cell_type": "code",
   "execution_count": null,
   "metadata": {},
   "outputs": [],
   "source": []
  },
  {
   "source": [
    "1,2,5组成100\n",
    "> 某个偶数m以内的偶数个数（包括0）可以表示为(int)((m+2)/2)\n",
    "\n",
    "> 某个奇数m以内的奇数个数也可以表示为(int)((m+2)/2)"
   ],
   "cell_type": "markdown",
   "metadata": {}
  },
  {
   "cell_type": "code",
   "execution_count": 1,
   "metadata": {},
   "outputs": [
    {
     "output_type": "stream",
     "name": "stdout",
     "text": [
      "541\n"
     ]
    }
   ],
   "source": [
    "number = 0\n",
    "\n",
    "for i in range(0, 101, 5):\n",
    "    # 不能忘记 int()\n",
    "    number +=(int)((i + 2) / 2) \n",
    "print(number)"
   ]
  }
 ]
}