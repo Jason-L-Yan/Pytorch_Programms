{
 "metadata": {
  "language_info": {
   "codemirror_mode": {
    "name": "ipython",
    "version": 3
   },
   "file_extension": ".py",
   "mimetype": "text/x-python",
   "name": "python",
   "nbconvert_exporter": "python",
   "pygments_lexer": "ipython3",
   "version": "3.7.4"
  },
  "orig_nbformat": 2,
  "kernelspec": {
   "name": "python374jvsc74a57bd096471d01087d4db976afdaae85d9de9222c1ac2c0ffb6e474608376cae1a9d4e",
   "display_name": "Python 3.7.4 64-bit"
  }
 },
 "nbformat": 4,
 "nbformat_minor": 2,
 "cells": [
  {
   "cell_type": "code",
   "execution_count": null,
   "metadata": {},
   "outputs": [],
   "source": [
    "for i in range(0,21):\n",
    "    for j in range(0,51):\n",
    "        if i*5+j*2<=100:\n",
    "            print(i, j, 100-i*5-j*2)"
   ]
  },
  {
   "cell_type": "code",
   "execution_count": 5,
   "metadata": {},
   "outputs": [
    {
     "output_type": "stream",
     "name": "stdout",
     "text": [
      "541\n"
     ]
    }
   ],
   "source": [
    "number = 0\n",
    "\n",
    "for i in range(0, 101, 5):\n",
    "    number +=int((i + 2) / 2)\n",
    "print(number)"
   ]
  }
 ]
}