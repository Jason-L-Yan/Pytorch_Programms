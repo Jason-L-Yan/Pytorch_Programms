{
 "metadata": {
  "language_info": {
   "codemirror_mode": {
    "name": "ipython",
    "version": 3
   },
   "file_extension": ".py",
   "mimetype": "text/x-python",
   "name": "python",
   "nbconvert_exporter": "python",
   "pygments_lexer": "ipython3",
   "version": "3.7.4"
  },
  "orig_nbformat": 2,
  "kernelspec": {
   "name": "python374jvsc74a57bd096471d01087d4db976afdaae85d9de9222c1ac2c0ffb6e474608376cae1a9d4e",
   "display_name": "Python 3.7.4 64-bit"
  }
 },
 "nbformat": 4,
 "nbformat_minor": 2,
 "cells": [
  {
   "source": [
    "![image-20210403153923313](https://cdn.jsdelivr.net/gh/Jason-L-Yan/imgBed/img/20210403153930.png)"
   ],
   "cell_type": "markdown",
   "metadata": {}
  },
  {
   "cell_type": "code",
   "execution_count": 9,
   "metadata": {},
   "outputs": [],
   "source": [
    "def uniquePaths(m, n):\n",
    "    f = [[0] * n ]  * m\n",
    "    f[0][0] = 1;\n",
    "    for i in range(m):\n",
    "        for j in range(n):\n",
    "            if i == 0 or j == 0:\n",
    "                f[i][j] = 1\n",
    "            else:\n",
    "                f[i][j] = f[i - 1][j] + f[i][j - 1]\n",
    "\n",
    "    return f[m - 1][n - 1]"
   ]
  },
  {
   "cell_type": "code",
   "execution_count": 10,
   "metadata": {},
   "outputs": [
    {
     "output_type": "execute_result",
     "data": {
      "text/plain": [
       "1"
      ]
     },
     "metadata": {},
     "execution_count": 10
    }
   ],
   "source": [
    "uniquePaths(3, 1)"
   ]
  }
 ]
}