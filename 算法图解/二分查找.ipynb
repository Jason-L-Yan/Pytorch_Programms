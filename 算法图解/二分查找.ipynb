{
 "metadata": {
  "language_info": {
   "codemirror_mode": {
    "name": "ipython",
    "version": 3
   },
   "file_extension": ".py",
   "mimetype": "text/x-python",
   "name": "python",
   "nbconvert_exporter": "python",
   "pygments_lexer": "ipython3",
   "version": "3.7.4"
  },
  "orig_nbformat": 2,
  "kernelspec": {
   "name": "python3",
   "display_name": "Python 3.7.4 64-bit",
   "metadata": {
    "interpreter": {
     "hash": "96471d01087d4db976afdaae85d9de9222c1ac2c0ffb6e474608376cae1a9d4e"
    }
   }
  }
 },
 "nbformat": 4,
 "nbformat_minor": 2,
 "cells": [
  {
   "cell_type": "code",
   "execution_count": 5,
   "metadata": {},
   "outputs": [],
   "source": [
    "def binary_search(list, item):\n",
    "    low = 0\n",
    "    high = len(list) - 1\n",
    "    \n",
    "    while low <= high:\n",
    "        mid = int( low + (high - low)/ 2)\n",
    "        guess = list[mid]\n",
    "        if guess == item:\n",
    "            return mid\n",
    "        if guess < item:\n",
    "            low = mid + 1\n",
    "        else:\n",
    "            high = mid - 1\n",
    "    return None "
   ]
  },
  {
   "cell_type": "code",
   "execution_count": 6,
   "metadata": {},
   "outputs": [],
   "source": [
    "my_list = [1, 3, 5, 7, 9]"
   ]
  },
  {
   "cell_type": "code",
   "execution_count": 7,
   "metadata": {},
   "outputs": [
    {
     "output_type": "stream",
     "name": "stdout",
     "text": [
      "2\nNone\n"
     ]
    }
   ],
   "source": [
    "print(binary_search(my_list, 5))\n",
    "print(binary_search(my_list, -1))"
   ]
  },
  {
   "cell_type": "code",
   "execution_count": 65,
   "metadata": {},
   "outputs": [
    {
     "output_type": "stream",
     "name": "stdout",
     "text": [
      "4\nNone\n"
     ]
    }
   ],
   "source": [
    "\n",
    "def binSearch(arr, item):\n",
    "    low = 0;\n",
    "    high = len(arr) - 1;\n",
    "    while low <= high:\n",
    "        mid = int((low + high) / 2);\n",
    "        guess = arr[mid];\n",
    "        if guess == item:\n",
    "            return mid;\n",
    "\n",
    "        if guess < item:\n",
    "            low = mid + 1;\n",
    "        \n",
    "        if guess > item:\n",
    "            high = mid - 1;\n",
    "    return None\n",
    "\n",
    "\n",
    "my_list = [1, 3, 5, 7, 9]\n",
    "print(binSearch(my_list, 9))\n",
    "print(binSearch(my_list, -1))"
   ]
  },
  {
   "cell_type": "code",
   "execution_count": 239,
   "metadata": {},
   "outputs": [
    {
     "output_type": "stream",
     "name": "stdout",
     "text": [
      "哈哈\n你好\n嘻嘻\n3\n"
     ]
    }
   ],
   "source": [
    "#例2：\n",
    "n6 = 2\n",
    "class MPA1():      #定义类\n",
    "    # 定义构造方法\n",
    "    def __init__(self, b, c):  #__init__() 是类的初始化方法；它在类的实例化操作后 会自动调用，不需要手动调用；\n",
    "        print(\"你好\")\n",
    "class MPA2():\n",
    "    def __init__(self,n5, n6):\n",
    "        self.n3 = n5 + n6 \n",
    "        # return None\n",
    "    def dfsd(self):\n",
    "        print(self.n3)\n",
    "class MPA3(MPA1): \n",
    "    def __init__(self):\n",
    "        print('哈哈')\n",
    "        super(MPA3, self).__init__(1, 2)\n",
    "        print('嘻嘻')\n",
    "        self.model = MPA2(1, 2) \n",
    "    def forward(self, n4, n5):\n",
    "        self.model.dfsd()\n",
    "        # return n6\n",
    "      \n",
    "\n",
    "network = MPA3()\n",
    "network.forward(1, 2)\n"
   ]
  }
 ]
}