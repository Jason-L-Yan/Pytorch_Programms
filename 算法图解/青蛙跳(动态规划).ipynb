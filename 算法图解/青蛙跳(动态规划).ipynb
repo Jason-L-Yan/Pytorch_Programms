{
 "metadata": {
  "language_info": {
   "codemirror_mode": {
    "name": "ipython",
    "version": 3
   },
   "file_extension": ".py",
   "mimetype": "text/x-python",
   "name": "python",
   "nbconvert_exporter": "python",
   "pygments_lexer": "ipython3",
   "version": "3.7.4"
  },
  "orig_nbformat": 2,
  "kernelspec": {
   "name": "python374jvsc74a57bd096471d01087d4db976afdaae85d9de9222c1ac2c0ffb6e474608376cae1a9d4e",
   "display_name": "Python 3.7.4 64-bit"
  }
 },
 "nbformat": 4,
 "nbformat_minor": 2,
 "cells": [
  {
   "cell_type": "code",
   "execution_count": 18,
   "metadata": {},
   "outputs": [],
   "source": [
    "def frogJump(path):\n",
    "    \n",
    "    length = len(path)\n",
    "    f = [False] * length\n",
    "    for i in range(1, length):\n",
    "        f[0] = True\n",
    "        for j in range(i):\n",
    "            if f[j] and j + path[j] >= i:\n",
    "                f[i] = True\n",
    "    return f[length - 1]\n",
    "\n",
    "\n",
    "\n"
   ]
  },
  {
   "cell_type": "code",
   "execution_count": 19,
   "metadata": {},
   "outputs": [
    {
     "output_type": "execute_result",
     "data": {
      "text/plain": [
       "True"
      ]
     },
     "metadata": {},
     "execution_count": 19
    }
   ],
   "source": [
    "frogJump([2,3, 1, 1, 4])"
   ]
  },
  {
   "cell_type": "code",
   "execution_count": 20,
   "metadata": {},
   "outputs": [
    {
     "output_type": "execute_result",
     "data": {
      "text/plain": [
       "False"
      ]
     },
     "metadata": {},
     "execution_count": 20
    }
   ],
   "source": [
    "frogJump([3, 2, 1, 0, 4])"
   ]
  }
 ]
}