{
 "metadata": {
  "language_info": {
   "codemirror_mode": {
    "name": "ipython",
    "version": 3
   },
   "file_extension": ".py",
   "mimetype": "text/x-python",
   "name": "python",
   "nbconvert_exporter": "python",
   "pygments_lexer": "ipython3",
   "version": "3.7.4"
  },
  "orig_nbformat": 2,
  "kernelspec": {
   "name": "python374jvsc74a57bd096471d01087d4db976afdaae85d9de9222c1ac2c0ffb6e474608376cae1a9d4e",
   "display_name": "Python 3.7.4 64-bit"
  }
 },
 "nbformat": 4,
 "nbformat_minor": 2,
 "cells": [
  {
   "cell_type": "code",
   "execution_count": 18,
   "metadata": {},
   "outputs": [],
   "source": [
    "stations = {}\n",
    "stations['kone'] = set(['id', 'nv', 'ut'])  # 1\n",
    "stations['ktwo'] = set(['wa', 'id', 'mt'])  # 2\n",
    "stations['kthree'] = set(['or', 'nv', 'ca'])  # 3\n",
    "stations['kfour'] = set(['nv', 'ut'])  # 4\n",
    "stations['kfive'] = set(['ca', 'az'])  # 5\n",
    "states_needed = set(['mt', 'wa', 'or', 'id', 'nv', 'ut', 'ca', 'az'])"
   ]
  },
  {
   "cell_type": "code",
   "execution_count": 19,
   "metadata": {},
   "outputs": [
    {
     "output_type": "stream",
     "name": "stdout",
     "text": [
      "{'or', 'az', 'wa', 'mt', 'ca'}\n{'or', 'az', 'ca'}\n{'az'}\nset()\n['kone', 'ktwo', 'kthree', 'kfive']\n"
     ]
    }
   ],
   "source": [
    "final_stations = []\n",
    "# 覆盖最多未覆盖的州\n",
    "while states_needed:\n",
    "    best_station = None\n",
    "    states_covered = set()  # 每次循环都清空\n",
    "    for station, states in stations.items():\n",
    "        covered = states & states_needed\n",
    "        if len(covered) > len(states_covered):\n",
    "            states_covered = covered\n",
    "            best_station = station\n",
    "    states_needed = states_needed - states_covered  # 集合求差集\n",
    "    print(states_needed)\n",
    "    final_stations.append(best_station)\n",
    "print(final_stations)"
   ]
  }
 ]
}