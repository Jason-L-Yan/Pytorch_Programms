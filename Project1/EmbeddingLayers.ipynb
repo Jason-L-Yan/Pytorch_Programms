{
 "cells": [
  {
   "cell_type": "markdown",
   "metadata": {},
   "source": [
    "# Encoding"
   ]
  },
  {
   "cell_type": "code",
   "execution_count": 182,
   "metadata": {
    "tags": []
   },
   "outputs": [
    {
     "output_type": "stream",
     "name": "stdout",
     "text": "['the', 'quick', 'brown', 'fox', 'jumped', 'over', 'the', 'lazy', 'dog']\n"
    }
   ],
   "source": [
    "sentence = \"the quick brown fox jumped over the lazy dog\"\n",
    "words = sentence.split(' ')  # 分词\n",
    "print(words)"
   ]
  },
  {
   "cell_type": "markdown",
   "metadata": {},
   "source": [
    "注：set() 函数创建一个无序不重复元素集，可进行关系测试，删除重复数据，还可以计算交集、差集、并集等。"
   ]
  },
  {
   "cell_type": "code",
   "execution_count": 183,
   "metadata": {
    "tags": []
   },
   "outputs": [
    {
     "output_type": "stream",
     "name": "stdout",
     "text": "{'b', 'o', 'u', 'n', 'r'} {'e', 'g', 'l', 'o'}\n"
    }
   ],
   "source": [
    "x = set('runoob') \n",
    "y = set('google')\n",
    "print(x, y)  # 重复的‘o’被删除"
   ]
  },
  {
   "cell_type": "markdown",
   "metadata": {},
   "source": [
    "回归主题："
   ]
  },
  {
   "cell_type": "code",
   "execution_count": 184,
   "metadata": {
    "tags": []
   },
   "outputs": [
    {
     "output_type": "stream",
     "name": "stdout",
     "text": "['lazy', 'the', 'quick', 'jumped', 'brown', 'fox', 'over', 'dog']\n"
    }
   ],
   "source": [
    "vocabl = list(set(words))  # 去除了重复的 ‘the’\n",
    "print(vocabl)"
   ]
  },
  {
   "cell_type": "code",
   "execution_count": 185,
   "metadata": {
    "tags": []
   },
   "outputs": [
    {
     "output_type": "stream",
     "name": "stdout",
     "text": "9\n8\n"
    }
   ],
   "source": [
    "print(len(words))\n",
    "print(len(vocabl))"
   ]
  },
  {
   "cell_type": "markdown",
   "metadata": {},
   "source": [
    "## One-hot Encoding Example\n",
    "需要纬度高，编码稀疏（信息量少）等"
   ]
  },
  {
   "cell_type": "code",
   "execution_count": 186,
   "metadata": {
    "tags": []
   },
   "outputs": [
    {
     "output_type": "stream",
     "name": "stdout",
     "text": "{'lazy': 0, 'the': 1, 'quick': 2, 'jumped': 3, 'brown': 4, 'fox': 5, 'over': 6, 'dog': 7}\n"
    }
   ],
   "source": [
    "# convert words to indexes\n",
    "word_to_ix1 = {word : i for i, word in enumerate(vocabl)}  # convert to dict\n",
    "print(word_to_ix1)"
   ]
  },
  {
   "cell_type": "code",
   "execution_count": 187,
   "metadata": {
    "tags": []
   },
   "outputs": [
    {
     "output_type": "stream",
     "name": "stdout",
     "text": "tensor([0, 1, 2, 3, 4, 5, 6, 7])\n['lazy', 'the', 'quick', 'jumped', 'brown', 'fox', 'over', 'dog']\ntensor([[1, 0, 0, 0, 0, 0, 0, 0],\n        [0, 1, 0, 0, 0, 0, 0, 0],\n        [0, 0, 1, 0, 0, 0, 0, 0],\n        [0, 0, 0, 1, 0, 0, 0, 0],\n        [0, 0, 0, 0, 1, 0, 0, 0],\n        [0, 0, 0, 0, 0, 1, 0, 0],\n        [0, 0, 0, 0, 0, 0, 1, 0],\n        [0, 0, 0, 0, 0, 0, 0, 1]])\n"
    }
   ],
   "source": [
    "import torch\n",
    "from torch.nn.functional import one_hot\n",
    "\n",
    "words = torch.tensor([word_to_ix1[w] for w in vocabl], dtype=torch.long)\n",
    "print(words)\n",
    "one_hot_encoding = one_hot(words)  # one-hot编码\n",
    "print(vocabl)\n",
    "print(one_hot_encoding)  # 信息量太少"
   ]
  },
  {
   "cell_type": "markdown",
   "metadata": {},
   "source": [
    "## Word Embedding Example"
   ]
  },
  {
   "cell_type": "code",
   "execution_count": 188,
   "metadata": {},
   "outputs": [],
   "source": [
    "# Context is the number of words we are using as a context for the next word we want to predict.\n",
    "CONTEXT_SIZE = 2\n",
    "\n",
    "# Embedding dimension is the size of embedding vector\n",
    "EMBEDDING_DIM = 10\n",
    "\n",
    "# Size of the hidden Layer\n",
    "HIDDEN_DIM = 256"
   ]
  },
  {
   "cell_type": "code",
   "execution_count": 189,
   "metadata": {},
   "outputs": [],
   "source": [
    "# we will use Shakespeare Sonnet 2\n",
    "test_sentence = \"\"\"Tomorrow and tomorrow and tomorrow,\n",
    "Creeps in this petty pace from day to day\n",
    "To the last syllable of recorded time,\n",
    "And all our yesterdays have lighted fools\n",
    "The way to dusty death. Out, out, brief candle!\n",
    "Life's but a walking shadow, a poor player\n",
    "That struts and frets his hour upon the stage\n",
    "And then is heard no more: it is a tale\n",
    "Told by an idiot, full of sound and fury,\n",
    "Signifying nothing.\"\"\".lower().split()"
   ]
  },
  {
   "cell_type": "code",
   "execution_count": 190,
   "metadata": {
    "tags": []
   },
   "outputs": [
    {
     "output_type": "stream",
     "name": "stdout",
     "text": "[(['tomorrow', 'and'], 'tomorrow'), (['and', 'tomorrow'], 'and'), (['tomorrow', 'and'], 'tomorrow,'), (['and', 'tomorrow,'], 'creeps'), (['tomorrow,', 'creeps'], 'in'), (['creeps', 'in'], 'this')]\n====================================================================================================\n['that', 'an', 'told', 'his', 'our', 'no', 'by', 'to', 'of', 'signifying', 'brief', 'syllable', 'time,', 'fools', 'creeps', 'idiot,', 'walking', 'then', 'fury,', 'tomorrow,', 'out,', 'struts', 'is', 'but', 'poor', 'candle!', 'in', 'tomorrow', 'upon', 'stage', 'the', 'a', 'hour', 'heard', 'tale', 'and', 'recorded', 'full', 'it', 'nothing.', 'shadow,', 'petty', 'yesterdays', 'pace', 'frets', 'way', 'day', 'more:', 'have', 'last', 'lighted', 'death.', 'sound', 'this', 'all', 'player', 'from', \"life's\", 'dusty']\n====================================================================================================\n75\n59\n====================================================================================================\n{'that': 0, 'an': 1, 'told': 2, 'his': 3, 'our': 4, 'no': 5, 'by': 6, 'to': 7, 'of': 8, 'signifying': 9, 'brief': 10, 'syllable': 11, 'time,': 12, 'fools': 13, 'creeps': 14, 'idiot,': 15, 'walking': 16, 'then': 17, 'fury,': 18, 'tomorrow,': 19, 'out,': 20, 'struts': 21, 'is': 22, 'but': 23, 'poor': 24, 'candle!': 25, 'in': 26, 'tomorrow': 27, 'upon': 28, 'stage': 29, 'the': 30, 'a': 31, 'hour': 32, 'heard': 33, 'tale': 34, 'and': 35, 'recorded': 36, 'full': 37, 'it': 38, 'nothing.': 39, 'shadow,': 40, 'petty': 41, 'yesterdays': 42, 'pace': 43, 'frets': 44, 'way': 45, 'day': 46, 'more:': 47, 'have': 48, 'last': 49, 'lighted': 50, 'death.': 51, 'sound': 52, 'this': 53, 'all': 54, 'player': 55, 'from': 56, \"life's\": 57, 'dusty': 58}\n"
    }
   ],
   "source": [
    "# Build a list of tuples. Each tuple is ([word_i-2, word_i-1], target word)\n",
    "trigrams = [([test_sentence[i], test_sentence[i + 1]], test_sentence[i + 2])\n",
    "             for i in range(len(test_sentence) - 2)]\n",
    "# print the first 3, just so you can see what they look like\n",
    "print(trigrams[: 6])\n",
    "vocab2 = list(set(test_sentence))\n",
    "print('=='*50)\n",
    "print(vocab2)\n",
    "print('=='*50)\n",
    "print(len(test_sentence))\n",
    "print(len(vocab2))\n",
    "word_to_ix2 = {word : i for i, word in enumerate(vocab2)}\n",
    "print('=='*50)\n",
    "print(word_to_ix2)"
   ]
  },
  {
   "cell_type": "code",
   "execution_count": 191,
   "metadata": {},
   "outputs": [],
   "source": [
    "import torch\n",
    "import torch.autograd as autograd\n",
    "import torch.nn as nn \n",
    "import torch.optim as optim\n",
    "import torch.nn.functional as F "
   ]
  },
  {
   "cell_type": "code",
   "execution_count": 192,
   "metadata": {},
   "outputs": [],
   "source": [
    "class NGramLanguageModeler(nn.Module):\n",
    "    \n",
    "    def __init__(self, vocab_size, embedding_dim, context_size):  # 59, 10, 2\n",
    "        super(NGramLanguageModeler, self).__init__()\n",
    "         # vocab_size：嵌入层字典的大小（单词本里单词个数），embedding_dim: 每个产出向量的大小\n",
    "        self.embedding = nn.Embedding(vocab_size, embedding_dim) \n",
    "        self.linear1 = nn.Linear(context_size * embedding_dim, HIDDEN_DIM)\n",
    "        self.linear2 = nn.Linear(HIDDEN_DIM, vocab_size)\n",
    "\n",
    "    def forward(self, inputs):\n",
    "\n",
    "        \"\"\"因为是根据前两个单词，去预测第三个。input是输入的两个行索引，每行10列，每一行代表一个单词，其中Embedding是初始化好的矩阵，行数为单词本里单词个数，列数为embedding_dim。输入索引，取出两行 10 维向量，当做网络的输入数据去训练、去反向传播\"\"\"\n",
    "\n",
    "        embeds = self.embedding(inputs)  # embeds:  torch.Size([2, 10])\n",
    "        embeds = embeds.view((1, -1))  # embeds:  torch.Size([1, 20])\n",
    "        out = F.relu(self.linear1(embeds))\n",
    "        out = self.linear2(out)\n",
    "        log_probs = F.log_softmax(out, dim=1)\n",
    "        return log_probs"
   ]
  },
  {
   "cell_type": "code",
   "execution_count": 193,
   "metadata": {},
   "outputs": [],
   "source": [
    "learning_rate = 0.001\n",
    "losses = []\n",
    "loss_function = nn.NLLLoss()  # negative log likehood\n",
    "model = NGramLanguageModeler(len(vocab2), EMBEDDING_DIM, CONTEXT_SIZE)  # 59, 10, 2\n",
    "optimizer = optim.SGD(model.parameters(), lr=learning_rate)"
   ]
  },
  {
   "cell_type": "code",
   "execution_count": 194,
   "metadata": {
    "tags": []
   },
   "outputs": [
    {
     "output_type": "stream",
     "name": "stderr",
     "text": "100%|██████████| 73/73 [00:01<00:00, 55.12it/s, loss=4.36]\n100%|██████████| 73/73 [00:01<00:00, 43.03it/s, loss=4.32]\n100%|██████████| 73/73 [00:00<00:00, 73.05it/s, loss=4.28]\n100%|██████████| 73/73 [00:00<00:00, 107.01it/s, loss=4.24]\n100%|██████████| 73/73 [00:00<00:00, 144.08it/s, loss=4.21]\n100%|██████████| 73/73 [00:00<00:00, 170.22it/s, loss=4.17]\n100%|██████████| 73/73 [00:00<00:00, 140.76it/s, loss=4.13]\n100%|██████████| 73/73 [00:00<00:00, 142.40it/s, loss=4.1]\n100%|██████████| 73/73 [00:00<00:00, 161.22it/s, loss=4.06]\n100%|██████████| 73/73 [00:00<00:00, 132.12it/s, loss=4.03]\n100%|██████████| 73/73 [00:00<00:00, 123.63it/s, loss=3.99]\n100%|██████████| 73/73 [00:05<00:00, 13.89it/s, loss=3.95]\n100%|██████████| 73/73 [00:01<00:00, 52.43it/s, loss=3.92]\n100%|██████████| 73/73 [00:01<00:00, 65.12it/s, loss=3.88]\n100%|██████████| 73/73 [00:02<00:00, 33.55it/s, loss=3.85]\n100%|██████████| 73/73 [00:01<00:00, 71.55it/s, loss=3.81]\n100%|██████████| 73/73 [00:01<00:00, 58.79it/s, loss=3.78]\n100%|██████████| 73/73 [00:01<00:00, 46.27it/s, loss=3.75]\n100%|██████████| 73/73 [00:01<00:00, 47.81it/s, loss=3.71]\n100%|██████████| 73/73 [00:01<00:00, 52.66it/s, loss=3.68]\n100%|██████████| 73/73 [00:00<00:00, 138.89it/s, loss=3.64]\n100%|██████████| 73/73 [00:00<00:00, 112.26it/s, loss=3.61]\n100%|██████████| 73/73 [00:00<00:00, 126.64it/s, loss=3.57]\n100%|██████████| 73/73 [00:00<00:00, 122.00it/s, loss=3.54]\n100%|██████████| 73/73 [00:00<00:00, 138.63it/s, loss=3.51]\n100%|██████████| 73/73 [00:00<00:00, 130.24it/s, loss=3.47]\n100%|██████████| 73/73 [00:00<00:00, 149.38it/s, loss=3.44]\n100%|██████████| 73/73 [00:00<00:00, 138.10it/s, loss=3.4]\n100%|██████████| 73/73 [00:00<00:00, 138.89it/s, loss=3.37]\n100%|██████████| 73/73 [00:00<00:00, 130.47it/s, loss=3.34]\n100%|██████████| 73/73 [00:00<00:00, 141.58it/s, loss=3.3]\n100%|██████████| 73/73 [00:00<00:00, 132.12it/s, loss=3.27]\n100%|██████████| 73/73 [00:00<00:00, 124.27it/s, loss=3.24]\n100%|██████████| 73/73 [00:00<00:00, 154.10it/s, loss=3.2]\n100%|██████████| 73/73 [00:00<00:00, 138.63it/s, loss=3.17]\n100%|██████████| 73/73 [00:00<00:00, 154.74it/s, loss=3.14]\n100%|██████████| 73/73 [00:00<00:00, 117.11it/s, loss=3.1]\n100%|██████████| 73/73 [00:00<00:00, 114.55it/s, loss=3.07]\n100%|██████████| 73/73 [00:00<00:00, 171.02it/s, loss=3.04]\n100%|██████████| 73/73 [00:00<00:00, 176.79it/s, loss=3]\n100%|██████████| 73/73 [00:00<00:00, 171.82it/s, loss=2.97]\n100%|██████████| 73/73 [00:00<00:00, 131.17it/s, loss=2.94]\n100%|██████████| 73/73 [00:00<00:00, 128.41it/s, loss=2.9]\n100%|██████████| 73/73 [00:00<00:00, 160.53it/s, loss=2.87]\n100%|██████████| 73/73 [00:00<00:00, 130.94it/s, loss=2.84]\n100%|██████████| 73/73 [00:00<00:00, 149.38it/s, loss=2.81]\n100%|██████████| 73/73 [00:00<00:00, 144.09it/s, loss=2.77]\n100%|██████████| 73/73 [00:00<00:00, 159.13it/s, loss=2.74]\n100%|██████████| 73/73 [00:00<00:00, 137.06it/s, loss=2.71]\n100%|██████████| 73/73 [00:00<00:00, 176.37it/s, loss=2.68]\n"
    }
   ],
   "source": [
    "from tqdm import tqdm  # 加上进度条\n",
    "\n",
    "for epoch in range(50):\n",
    "    total_loss = 0\n",
    "    iterator = tqdm(trigrams)\n",
    "    for context, target in iterator:\n",
    "        # Step 1. Prepare the inputs to be passed to the model(i.e, turn the words into integer indices and wrap them in tensors)\n",
    "        context_idxs = torch.tensor([word_to_ix2[w] for w in context], dtype=torch.long)\n",
    "\n",
    "        # Step 2. Recall that torch *accumulates* gradients. Before passing in a new instance,you need to zero out gradients from the old instance.\n",
    "        model.zero_grad()\n",
    "\n",
    "        # Step 3. Run the forward pass,getting log probabilities over next words\n",
    "        log_probs = model(context_idxs)  # torch.Size([1, 59])\n",
    "        \n",
    "        # Step 4. Compute your loss function. (Again,Torch wants the target word wrapped in a tensor)\n",
    "        # log_probs是torch.Size([1, 59]), 而torch.tensor([word_to_ix2[target]], dtype=torch.long) 是一个具体的LongTensor型数字，它会被自动转换为one-hot进行训练\n",
    "        \n",
    "        loss = loss_function(log_probs, torch.tensor([word_to_ix2[target]], dtype=torch.long))\n",
    "\n",
    "        # Step 5. Do the backward pass and update the gradient\n",
    "        loss.backward() \n",
    "        optimizer.step()\n",
    "\n",
    "        # Get the Python number from a 1-elements Tensor calling tensor.item()\n",
    "        total_loss += loss.item()\n",
    "        iterator.set_postfix(loss=float(loss))  # 在进度条后面加上损失值 loss\n",
    "    losses.append(total_loss)\n",
    "    # add progress bar with epoch"
   ]
  },
  {
   "cell_type": "code",
   "execution_count": 195,
   "metadata": {},
   "outputs": [],
   "source": [
    "# check the structure of our model here\n",
    "# model.eval()"
   ]
  },
  {
   "cell_type": "code",
   "execution_count": 197,
   "metadata": {
    "tags": []
   },
   "outputs": [
    {
     "output_type": "stream",
     "name": "stdout",
     "text": "tomorrow,\n"
    }
   ],
   "source": [
    "import numpy\n",
    "\n",
    "with torch.no_grad():\n",
    "    context3 = ['tomorrow', 'and']\n",
    "    context_idxs3 = torch.tensor([word_to_ix2[w] for w in context3], dtype=torch.long)\n",
    "    pred = model(context_idxs3)  # torch.Size([1, 59])\n",
    "    index_of_prediction = numpy.argmax(pred)\n",
    "    print(vocab2[index_of_prediction])"
   ]
  }
 ],
 "metadata": {
  "language_info": {
   "codemirror_mode": {
    "name": "ipython",
    "version": 3
   },
   "file_extension": ".py",
   "mimetype": "text/x-python",
   "name": "python",
   "nbconvert_exporter": "python",
   "pygments_lexer": "ipython3",
   "version": 3
  },
  "orig_nbformat": 2,
  "kernelspec": {
   "name": "python_defaultSpec_1594125444456",
   "display_name": "Python 3.7.4 64-bit"
  }
 },
 "nbformat": 4,
 "nbformat_minor": 2
}