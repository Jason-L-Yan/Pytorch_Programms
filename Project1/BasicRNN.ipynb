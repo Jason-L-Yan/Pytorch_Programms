{
 "cells": [
  {
   "cell_type": "markdown",
   "metadata": {},
   "source": [
    "# RNN\n",
    "循环神经网络中，激活函数 tanh 比较常用，因为 tanh$\\in$\\[-1, 1\\]\n"
   ]
  },
  {
   "cell_type": "markdown",
   "metadata": {},
   "source": [
    "## 1. nn.RNNCell\n",
    "![](https://cdn.jsdelivr.net/gh/Jason-L-Yan/imgBed/img/image-20200706191048243.png)"
   ]
  },
  {
   "cell_type": "code",
   "execution_count": 22,
   "metadata": {
    "tags": []
   },
   "outputs": [],
   "source": [
    "import torch"
   ]
  },
  {
   "cell_type": "code",
   "execution_count": 23,
   "metadata": {},
   "outputs": [],
   "source": [
    "batch_size = 1\n",
    "seqLen = 3\n",
    "input_size =4\n",
    "hidden_size = 2"
   ]
  },
  {
   "cell_type": "code",
   "execution_count": 24,
   "metadata": {
    "tags": []
   },
   "outputs": [
    {
     "output_type": "stream",
     "name": "stdout",
     "text": "tensor([[[ 1.0843, -0.6787,  1.2429,  0.8117]],\n\n        [[-0.0520,  0.4230,  0.1857,  0.3270]],\n\n        [[ 0.2392,  0.2887, -0.1591, -1.3133]]])\n"
    }
   ],
   "source": [
    "cell = torch.nn.RNNCell(input_size=input_size, hidden_size=hidden_size)\n",
    "\n",
    "# (seq, batch, features) \n",
    "dataset = torch.randn(seqLen, batch_size, input_size )\n",
    "print(dataset)\n",
    "hidden = torch.zeros(batch_size, hidden_size)  # h0"
   ]
  },
  {
   "cell_type": "code",
   "execution_count": 25,
   "metadata": {
    "tags": []
   },
   "outputs": [
    {
     "output_type": "stream",
     "name": "stdout",
     "text": "==================== 0 ====================\nInput size: torch.Size([1, 4])\nInputs: tensor([[ 1.0843, -0.6787,  1.2429,  0.8117]])\noutputs size: torch.Size([1, 2])\nhidden: tensor([[0.4822, 0.2953]], grad_fn=<TanhBackward>)\n==================== 1 ====================\nInput size: torch.Size([1, 4])\nInputs: tensor([[-0.0520,  0.4230,  0.1857,  0.3270]])\noutputs size: torch.Size([1, 2])\nhidden: tensor([[-0.6670,  0.7566]], grad_fn=<TanhBackward>)\n==================== 2 ====================\nInput size: torch.Size([1, 4])\nInputs: tensor([[ 0.2392,  0.2887, -0.1591, -1.3133]])\noutputs size: torch.Size([1, 2])\nhidden: tensor([[-0.8478,  0.8577]], grad_fn=<TanhBackward>)\n"
    }
   ],
   "source": [
    "for idx, inputs in enumerate(dataset):\n",
    "    print('=' * 20, idx, '=' * 20)\n",
    "    print('Input size:', inputs.shape)\n",
    "    print('Inputs:', inputs)\n",
    "\n",
    "    hidden = cell(inputs, hidden)\n",
    "\n",
    "    print('outputs size:', hidden.shape)\n",
    "    print('hidden:',hidden)"
   ]
  },
  {
   "cell_type": "markdown",
   "metadata": {},
   "source": [
    "## 2. nn.RNN\n",
    "![](https://cdn.jsdelivr.net/gh/Jason-L-Yan/imgBed/img/image-20200706200014892.png)"
   ]
  },
  {
   "cell_type": "code",
   "execution_count": 26,
   "metadata": {},
   "outputs": [],
   "source": [
    "import torch"
   ]
  },
  {
   "cell_type": "code",
   "execution_count": 27,
   "metadata": {},
   "outputs": [],
   "source": [
    "batch_size2 = 1\n",
    "seq_len2 = 3\n",
    "input_size2 = 4\n",
    "hidden_size2 = 2\n",
    "num_layers2 = 1"
   ]
  },
  {
   "cell_type": "code",
   "execution_count": 28,
   "metadata": {},
   "outputs": [],
   "source": [
    "cell2 = torch.nn.RNN(input_size=input_size2, hidden_size=hidden_size2, num_layers=num_layers2)\n",
    "\n",
    "# (seqLen, batchSize, inputSize)\n",
    "inputs2 = torch.randn(seq_len2, batch_size2, input_size2)\n",
    "# Initializing the hidden to zero\n",
    "hidden2 = torch.zeros(num_layers2, batch_size2, hidden_size2)"
   ]
  },
  {
   "cell_type": "code",
   "execution_count": 29,
   "metadata": {
    "tags": []
   },
   "outputs": [
    {
     "output_type": "stream",
     "name": "stdout",
     "text": "Output2 size:  torch.Size([3, 1, 2])\nOutput2:  tensor([[[-0.1519, -0.8191]],\n\n        [[-0.7748, -0.5136]],\n\n        [[-0.8614, -0.9138]]], grad_fn=<StackBackward>)\nHidden2 size:  torch.Size([1, 1, 2])\nHidden2:  tensor([[[-0.8614, -0.9138]]], grad_fn=<StackBackward>)\n"
    }
   ],
   "source": [
    "# The shape of output2 is (seqSize, batchSize, hiddenSize)\n",
    "# The shape of hidden2 is (numLayers, batchSize, hiddenSize)\n",
    "\n",
    "out2, hidden2 = cell2(inputs2, hidden2)\n",
    "\n",
    "print('Output2 size: ', out2.shape)  # [3, 1, 2]\n",
    "print(\"Output2: \", out2)\n",
    "print(\"Hidden2 size: \",hidden2.shape )\n",
    "print(\"Hidden2: \", hidden2)"
   ]
  },
  {
   "cell_type": "markdown",
   "metadata": {},
   "source": [
    "### 2.2 当 batch_first=True 时\n",
    "![](https://cdn.jsdelivr.net/gh/Jason-L-Yan/imgBed/img/image-20200706203517829.png)"
   ]
  },
  {
   "cell_type": "code",
   "execution_count": 30,
   "metadata": {},
   "outputs": [],
   "source": [
    "import torch"
   ]
  },
  {
   "cell_type": "code",
   "execution_count": 31,
   "metadata": {},
   "outputs": [],
   "source": [
    "batch_size3 = 1\n",
    "seq_len3 = 3\n",
    "input_size3 = 4\n",
    "hidden_size3 = 2\n",
    "num_layers3 = 1"
   ]
  },
  {
   "cell_type": "code",
   "execution_count": 32,
   "metadata": {},
   "outputs": [],
   "source": [
    "cell3 = torch.nn.RNN(input_size=input_size3, hidden_size=hidden_size3, num_layers=num_layers3, batch_first=True)\n",
    "\n",
    "# 注意此处维度发生了变化(batchSize, seqLen, inputSize)，即把前两个维度做一个转置\n",
    "inputs3 = torch.randn(batch_size3, seq_len3, input_size3)\n",
    "# Initializing the hidden to zero\n",
    "hidden3 = torch.zeros(num_layers3, batch_size3, hidden_size3)"
   ]
  },
  {
   "cell_type": "code",
   "execution_count": null,
   "metadata": {
    "tags": []
   },
   "outputs": [],
   "source": [
    "out3, hidden3 = cell3(inputs3, hidden3)\n",
    "\n",
    "print('Output3 size: ', out3.shape)  # 输出维度为[1, 3, 2]\n",
    "print(\"Output3: \", out3)\n",
    "print(\"Hidden3 size: \",hidden3.shape )\n",
    "print(\"Hidden3: \", hidden3)"
   ]
  }
 ],
 "metadata": {
  "language_info": {
   "codemirror_mode": {
    "name": "ipython",
    "version": 3
   },
   "file_extension": ".py",
   "mimetype": "text/x-python",
   "name": "python",
   "nbconvert_exporter": "python",
   "pygments_lexer": "ipython3",
   "version": "3.7.4-final"
  },
  "orig_nbformat": 2,
  "kernelspec": {
   "name": "python_defaultSpec_1594037005739",
   "display_name": "Python 3.7.4 64-bit"
  }
 },
 "nbformat": 4,
 "nbformat_minor": 2
}