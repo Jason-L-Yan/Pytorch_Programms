{
 "cells": [
  {
   "cell_type": "markdown",
   "metadata": {},
   "source": [
    "# RNN--Embedding and Linear Layer\n",
    "![image-20200708111028028](https://cdn.jsdelivr.net/gh/Jason-L-Yan/imgBed/img/image-20200708111028028.png)"
   ]
  },
  {
   "cell_type": "code",
   "execution_count": 13,
   "metadata": {},
   "outputs": [],
   "source": [
    "import torch"
   ]
  },
  {
   "cell_type": "code",
   "execution_count": 14,
   "metadata": {},
   "outputs": [],
   "source": [
    "idx2char = ['e', 'h', 'l', 'o']\n",
    "x_data = [[1, 0, 2, 2, 3]]  # The input sequence is 'hello'  (batch, seq_len)，不同于charater_testRNN 和 BasicRNN 中的方式\n",
    "y_data = [3, 1, 2, 3, 2]  # The output sequence is 'ohlol'   (batch * seq_len)\n",
    "\n",
    "# Embedding层要求 input 和 target 是 LongTensor\n",
    "inputs = torch.LongTensor(x_data)\n",
    "labels = torch.LongTensor(y_data)"
   ]
  },
  {
   "cell_type": "code",
   "execution_count": 15,
   "metadata": {},
   "outputs": [],
   "source": [
    "num_class = 4\n",
    "input_size = 4\n",
    "hidden_size = 8\n",
    "embedding_size = 10\n",
    "num_layers = 2\n",
    "batch_size = 1\n",
    "seq_len = 5"
   ]
  },
  {
   "cell_type": "code",
   "execution_count": 16,
   "metadata": {},
   "outputs": [],
   "source": [
    "class Model(torch.nn.Module):\n",
    "\n",
    "    def __init__(self):\n",
    "        super(Model, self).__init__()\n",
    "        self.emb = torch.nn.Embedding(input_size, embedding_size)\n",
    "        self.rnn = torch.nn.RNN(input_size=embedding_size, hidden_size=hidden_size, \n",
    "                                num_layers=num_layers, batch_first=True)\n",
    "        self.fc = torch.nn.Linear(hidden_size, num_class) \n",
    "\n",
    "    def forward(self, x):\n",
    "        hidden = torch.zeros(num_layers, x.size(0), hidden_size)\n",
    "        x = self.emb(x)\n",
    "        x, _ = self.rnn(x, hidden)\n",
    "        x = self.fc(x)\n",
    "        return x.view(-1, num_class)                           "
   ]
  },
  {
   "cell_type": "code",
   "execution_count": 17,
   "metadata": {},
   "outputs": [],
   "source": [
    "net = Model()\n",
    "criterion = torch.nn.CrossEntropyLoss()\n",
    "optimizer = torch.optim.Adam(net.parameters(), lr=0.05)"
   ]
  },
  {
   "cell_type": "code",
   "execution_count": 18,
   "metadata": {
    "tags": []
   },
   "outputs": [
    {
     "output_type": "stream",
     "name": "stdout",
     "text": "Predicted:  ellel, Epocn [1 / 15] loss = 1.532\nPredicted:  lllll, Epocn [2 / 15] loss = 1.202\nPredicted:  ohlll, Epocn [3 / 15] loss = 0.972\nPredicted:  ohlll, Epocn [4 / 15] loss = 0.763\nPredicted:  ohlol, Epocn [5 / 15] loss = 0.593\nPredicted:  ohlol, Epocn [6 / 15] loss = 0.439\nPredicted:  ohlol, Epocn [7 / 15] loss = 0.312\nPredicted:  ohlol, Epocn [8 / 15] loss = 0.217\nPredicted:  ohlol, Epocn [9 / 15] loss = 0.151\nPredicted:  ohlol, Epocn [10 / 15] loss = 0.105\nPredicted:  ohlol, Epocn [11 / 15] loss = 0.074\nPredicted:  ohlol, Epocn [12 / 15] loss = 0.053\nPredicted:  ohlol, Epocn [13 / 15] loss = 0.039\nPredicted:  ohlol, Epocn [14 / 15] loss = 0.030\nPredicted:  ohlol, Epocn [15 / 15] loss = 0.024\n"
    }
   ],
   "source": [
    "for epoch in range(15):\n",
    "    optimizer.zero_grad()\n",
    "    outputs = net(inputs)\n",
    "    loss = criterion(outputs, labels)\n",
    "    loss.backward()\n",
    "    optimizer.step()\n",
    "\n",
    "    _, idx = outputs.max(dim=1)\n",
    "    idx = idx.data.numpy()  # 数据转换成 numpy 格式\n",
    "    print('Predicted: ', ''.join([idx2char[x] for x in idx]), end='')\n",
    "    print(', Epocn [%d / 15] loss = %.3f' % (epoch + 1, loss.item()))"
   ]
  }
 ],
 "metadata": {
  "language_info": {
   "codemirror_mode": {
    "name": "ipython",
    "version": 3
   },
   "file_extension": ".py",
   "mimetype": "text/x-python",
   "name": "python",
   "nbconvert_exporter": "python",
   "pygments_lexer": "ipython3",
   "version": 3
  },
  "orig_nbformat": 2,
  "kernelspec": {
   "name": "python_defaultSpec_1594192507431",
   "display_name": "Python 3.7.4 64-bit"
  }
 },
 "nbformat": 4,
 "nbformat_minor": 2
}